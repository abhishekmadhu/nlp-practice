{
 "cells": [
  {
   "cell_type": "code",
   "execution_count": 74,
   "metadata": {},
   "outputs": [],
   "source": [
    "from __future__ import print_function\n",
    "import datetime\n",
    "import datetime\n",
    "import pickle\n",
    "import os.path\n",
    "from googleapiclient.discovery import build\n",
    "from google_auth_oauthlib.flow import InstalledAppFlow\n",
    "from google.auth.transport.requests import Request\n",
    "import spacy\n",
    "import uuid"
   ]
  },
  {
   "cell_type": "code",
   "execution_count": 29,
   "metadata": {},
   "outputs": [],
   "source": [
    "nlp = spacy.load('en_core_web_sm')"
   ]
  },
  {
   "cell_type": "markdown",
   "metadata": {},
   "source": [
    "We will take the text string from any source, say a CLI or the \n",
    "any other interface, the web-app maybe...(?)"
   ]
  },
  {
   "cell_type": "code",
   "execution_count": 30,
   "metadata": {},
   "outputs": [
    {
     "name": "stdout",
     "output_type": "stream",
     "text": [
      "Enter a sentence: Meet Joseph at Delhi on 12 Feb 2019 at 7pm.\n"
     ]
    }
   ],
   "source": [
    "text = input(\"Enter a sentence: \")"
   ]
  },
  {
   "cell_type": "code",
   "execution_count": 31,
   "metadata": {},
   "outputs": [],
   "source": [
    "sentence = nlp(text)"
   ]
  },
  {
   "cell_type": "code",
   "execution_count": 32,
   "metadata": {},
   "outputs": [
    {
     "name": "stdout",
     "output_type": "stream",
     "text": [
      "Meet Joseph PERSON\n",
      "Delhi GPE\n",
      "12 Feb 2019 DATE\n",
      "7pm TIME\n"
     ]
    }
   ],
   "source": [
    "for ent in sentence.ents:\n",
    "    print(ent, ent.label_)"
   ]
  },
  {
   "cell_type": "code",
   "execution_count": 59,
   "metadata": {},
   "outputs": [],
   "source": [
    "class Event(object):\n",
    "    _id = uuid.uuid4().hex\n",
    "    title = None\n",
    "    date = None\n",
    "    start_time = None\n",
    "    end_time = None\n",
    "    location = None\n",
    "    \n",
    "    def __init__(self, _id=None):\n",
    "        _id = uuid.uuid4().hex\n",
    "        title = None\n",
    "        date = None\n",
    "        start_time = None\n",
    "        end_time = None\n",
    "        location = None\n",
    "    \n",
    "    def toStr(self):\n",
    "        print(\"_id: \", self._id,\n",
    "              \"\\ntitle :\", self.title,\n",
    "              \"\\ndate: \", self.date,\n",
    "              \"\\nstart_time: \", self.start_time,\n",
    "              \"\\nend_time: \", self.end_time,\n",
    "              \"\\nlocation: \", self.location)"
   ]
  },
  {
   "cell_type": "code",
   "execution_count": 60,
   "metadata": {},
   "outputs": [],
   "source": [
    "event = Event(\"0001\")"
   ]
  },
  {
   "cell_type": "code",
   "execution_count": 61,
   "metadata": {},
   "outputs": [
    {
     "name": "stdout",
     "output_type": "stream",
     "text": [
      "7pm                  TIME\n"
     ]
    }
   ],
   "source": [
    "for ent in sentence.ents:\n",
    "        if ent.label_ == \"TIME\":\n",
    "            print(f'{ent.text:{20}} {ent.label_}')\n",
    "            event.start_time = ent.text"
   ]
  },
  {
   "cell_type": "code",
   "execution_count": 62,
   "metadata": {},
   "outputs": [
    {
     "name": "stdout",
     "output_type": "stream",
     "text": [
      "Delhi                GPE\n"
     ]
    }
   ],
   "source": [
    "location_list = [\"GPE\", \"FAC\", \"ORG\", \"LOC\", \"\"]\n",
    "for ent in sentence.ents:\n",
    "        if ent.label_ in location_list:\n",
    "            print(f'{ent.text:{20}} {ent.label_}')\n",
    "            event.location = ent.text"
   ]
  },
  {
   "cell_type": "code",
   "execution_count": 63,
   "metadata": {
    "scrolled": true
   },
   "outputs": [
    {
     "name": "stdout",
     "output_type": "stream",
     "text": [
      "12 Feb 2019          DATE\n"
     ]
    }
   ],
   "source": [
    "for ent in sentence.ents:\n",
    "        if ent.label_ == \"DATE\":\n",
    "            print(f'{ent.text:{20}} {ent.label_}')\n",
    "            event.date = ent.text"
   ]
  },
  {
   "cell_type": "code",
   "execution_count": 64,
   "metadata": {},
   "outputs": [
    {
     "name": "stdout",
     "output_type": "stream",
     "text": [
      "_id:  7f974cd783c54ef4ac1eda85ceb6b292 \n",
      "title : None \n",
      "date:  12 Feb 2019 \n",
      "start_time:  7pm \n",
      "end_time:  None \n",
      "location:  Delhi\n",
      "None\n"
     ]
    }
   ],
   "source": [
    "print(event.toStr())"
   ]
  },
  {
   "cell_type": "code",
   "execution_count": 65,
   "metadata": {},
   "outputs": [
    {
     "name": "stdout",
     "output_type": "stream",
     "text": [
      "12 Feb 2019\n",
      "7pm\n",
      "Delhi\n"
     ]
    }
   ],
   "source": [
    "cleanup = [event.date, event.start_time, event.end_time, event.location,]\n",
    "try:\n",
    "    for removable in cleanup:\n",
    "        if removable is not None:\n",
    "            print(removable)\n",
    "            text = text.replace(removable, \"\")\n",
    "except:\n",
    "    print(\"Error as one or more Named Entity not recognised\")"
   ]
  },
  {
   "cell_type": "code",
   "execution_count": 66,
   "metadata": {},
   "outputs": [],
   "source": [
    "event.title = text"
   ]
  },
  {
   "cell_type": "code",
   "execution_count": 67,
   "metadata": {},
   "outputs": [
    {
     "name": "stdout",
     "output_type": "stream",
     "text": [
      "_id:  7f974cd783c54ef4ac1eda85ceb6b292 \n",
      "title : Meet Joseph at  on  at . \n",
      "date:  12 Feb 2019 \n",
      "start_time:  7pm \n",
      "end_time:  None \n",
      "location:  Delhi\n"
     ]
    }
   ],
   "source": [
    "event.toStr()"
   ]
  },
  {
   "cell_type": "markdown",
   "metadata": {},
   "source": [
    "# Now create an event using gcal API"
   ]
  },
  {
   "cell_type": "code",
   "execution_count": 75,
   "metadata": {},
   "outputs": [],
   "source": [
    "#adding the info I couldn't parse yet\n",
    "\n",
    "# event.end_time = "
   ]
  },
  {
   "cell_type": "code",
   "execution_count": 76,
   "metadata": {},
   "outputs": [
    {
     "ename": "NameError",
     "evalue": "name 'service' is not defined",
     "output_type": "error",
     "traceback": [
      "\u001b[0;31m---------------------------------------------------------------------------\u001b[0m",
      "\u001b[0;31mNameError\u001b[0m                                 Traceback (most recent call last)",
      "\u001b[0;32m<ipython-input-76-a182149c4590>\u001b[0m in \u001b[0;36m<module>\u001b[0;34m\u001b[0m\n\u001b[1;32m     27\u001b[0m }\n\u001b[1;32m     28\u001b[0m \u001b[0;34m\u001b[0m\u001b[0m\n\u001b[0;32m---> 29\u001b[0;31m \u001b[0mcalendar_event\u001b[0m \u001b[0;34m=\u001b[0m \u001b[0mservice\u001b[0m\u001b[0;34m.\u001b[0m\u001b[0mevents\u001b[0m\u001b[0;34m(\u001b[0m\u001b[0;34m)\u001b[0m\u001b[0;34m.\u001b[0m\u001b[0minsert\u001b[0m\u001b[0;34m(\u001b[0m\u001b[0mcalendarId\u001b[0m\u001b[0;34m=\u001b[0m\u001b[0;34m'primary'\u001b[0m\u001b[0;34m,\u001b[0m \u001b[0mbody\u001b[0m\u001b[0;34m=\u001b[0m\u001b[0mcalendar_event\u001b[0m\u001b[0;34m)\u001b[0m\u001b[0;34m.\u001b[0m\u001b[0mexecute\u001b[0m\u001b[0;34m(\u001b[0m\u001b[0;34m)\u001b[0m\u001b[0;34m\u001b[0m\u001b[0m\n\u001b[0m\u001b[1;32m     30\u001b[0m \u001b[0mprint\u001b[0m\u001b[0;34m(\u001b[0m\u001b[0;34mf\"Event created: {event.get('htmlLink')}\"\u001b[0m\u001b[0;34m)\u001b[0m\u001b[0;34m\u001b[0m\u001b[0m\n",
      "\u001b[0;31mNameError\u001b[0m: name 'service' is not defined"
     ]
    }
   ],
   "source": [
    "calendar_event = {\n",
    "  'summary': 'Fake Google Calendar Event',\n",
    "  'location': '800 Howard St., San Francisco, CA 94103',\n",
    "  'description': 'A chance to hear more about Google\\'s developer products.',\n",
    "  'start': {\n",
    "    'dateTime': '2019-05-28T09:00:00-07:00',\n",
    "    'timeZone': 'America/Los_Angeles',\n",
    "  },\n",
    "  'end': {\n",
    "    'dateTime': '2019-05-28T17:00:00-07:00',\n",
    "    'timeZone': 'America/Los_Angeles',\n",
    "  },\n",
    "  'recurrence': [\n",
    "    'RRULE:FREQ=DAILY;COUNT=2'\n",
    "  ],\n",
    "  'attendees': [\n",
    "    {'email': 'lpage@example.com'},\n",
    "    {'email': 'sbrin@example.com'},\n",
    "  ],\n",
    "  'reminders': {\n",
    "    'useDefault': False,\n",
    "    'overrides': [\n",
    "      {'method': 'email', 'minutes': 24 * 60},\n",
    "      {'method': 'popup', 'minutes': 10},\n",
    "    ],\n",
    "  },\n",
    "}\n",
    "\n",
    "calendar_event = service.events().insert(calendarId='primary', body=calendar_event).execute()\n",
    "print(f\"Event created: {event.get('htmlLink')}\")\n"
   ]
  },
  {
   "cell_type": "code",
   "execution_count": null,
   "metadata": {},
   "outputs": [],
   "source": []
  }
 ],
 "metadata": {
  "kernelspec": {
   "display_name": "Python 3",
   "language": "python",
   "name": "python3"
  },
  "language_info": {
   "codemirror_mode": {
    "name": "ipython",
    "version": 3
   },
   "file_extension": ".py",
   "mimetype": "text/x-python",
   "name": "python",
   "nbconvert_exporter": "python",
   "pygments_lexer": "ipython3",
   "version": "3.6.6"
  }
 },
 "nbformat": 4,
 "nbformat_minor": 2
}
