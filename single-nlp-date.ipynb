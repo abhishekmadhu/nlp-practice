{
 "cells": [
  {
   "cell_type": "code",
   "execution_count": 1,
   "metadata": {},
   "outputs": [],
   "source": [
    "import spacy\n",
    "import uuid"
   ]
  },
  {
   "cell_type": "code",
   "execution_count": 2,
   "metadata": {},
   "outputs": [],
   "source": [
    "nlp = spacy.load('en_core_web_sm')"
   ]
  },
  {
   "cell_type": "code",
   "execution_count": 3,
   "metadata": {},
   "outputs": [
    {
     "name": "stdout",
     "output_type": "stream",
     "text": [
      "Enter a sentence: Let us meet at the water park on 1st January 2016 at 7pm.\n"
     ]
    }
   ],
   "source": [
    "text = input(\"Enter a sentence: \")"
   ]
  },
  {
   "cell_type": "code",
   "execution_count": 4,
   "metadata": {},
   "outputs": [],
   "source": [
    "sentence = nlp(text)"
   ]
  },
  {
   "cell_type": "code",
   "execution_count": 5,
   "metadata": {},
   "outputs": [
    {
     "name": "stdout",
     "output_type": "stream",
     "text": [
      "1st January 2016 DATE\n",
      "7pm TIME\n"
     ]
    }
   ],
   "source": [
    "for ent in sentence.ents:\n",
    "    print(ent, ent.label_)"
   ]
  },
  {
   "cell_type": "code",
   "execution_count": 6,
   "metadata": {},
   "outputs": [],
   "source": [
    "class Event(object):\n",
    "    _id = None\n",
    "    title = None\n",
    "    date = None\n",
    "    time = None\n",
    "    location = None\n",
    "    \n",
    "    def toString(self):\n",
    "        print(\"_id: \", self._id,\n",
    "              \"title :\", self.title,\n",
    "              \"date: \", self.date,\n",
    "              \"time: \", self.time,\n",
    "              \"location: \", self.location)"
   ]
  },
  {
   "cell_type": "code",
   "execution_count": 7,
   "metadata": {},
   "outputs": [],
   "source": [
    "event = Event()"
   ]
  },
  {
   "cell_type": "code",
   "execution_count": 8,
   "metadata": {},
   "outputs": [],
   "source": [
    "event._id = uuid.uuid4().hex"
   ]
  },
  {
   "cell_type": "code",
   "execution_count": 9,
   "metadata": {},
   "outputs": [
    {
     "name": "stdout",
     "output_type": "stream",
     "text": [
      "7pm                  TIME\n"
     ]
    }
   ],
   "source": [
    "for ent in sentence.ents:\n",
    "        if ent.label_ == \"TIME\":\n",
    "            print(f'{ent.text:{20}} {ent.label_}')\n",
    "            event.time = ent.text"
   ]
  },
  {
   "cell_type": "code",
   "execution_count": 10,
   "metadata": {},
   "outputs": [],
   "source": [
    "location_list = [\"GPE\", \"FAC\", \"ORG\", \"LOC\", \"\"]\n",
    "for ent in sentence.ents:\n",
    "        if ent.label_ in location_list:\n",
    "            print(f'{ent.text:{20}} {ent.label_}')\n",
    "            event.location = ent.text"
   ]
  },
  {
   "cell_type": "code",
   "execution_count": 11,
   "metadata": {},
   "outputs": [
    {
     "name": "stdout",
     "output_type": "stream",
     "text": [
      "1st January 2016     DATE\n"
     ]
    }
   ],
   "source": [
    "for ent in sentence.ents:\n",
    "        if ent.label_ == \"DATE\":\n",
    "            print(f'{ent.text:{20}} {ent.label_}')\n",
    "            event.date = ent.text"
   ]
  },
  {
   "cell_type": "code",
   "execution_count": 12,
   "metadata": {},
   "outputs": [
    {
     "name": "stdout",
     "output_type": "stream",
     "text": [
      "_id:  e8450261b6d14edcbfcba9678b33aaed title : None date:  1st January 2016 time:  7pm location:  None\n",
      "None\n"
     ]
    }
   ],
   "source": [
    "print(event.toString())"
   ]
  }
 ],
 "metadata": {
  "kernelspec": {
   "display_name": "Python 3",
   "language": "python",
   "name": "python3"
  },
  "language_info": {
   "codemirror_mode": {
    "name": "ipython",
    "version": 3
   },
   "file_extension": ".py",
   "mimetype": "text/x-python",
   "name": "python",
   "nbconvert_exporter": "python",
   "pygments_lexer": "ipython3",
   "version": "3.6.6"
  }
 },
 "nbformat": 4,
 "nbformat_minor": 2
}
