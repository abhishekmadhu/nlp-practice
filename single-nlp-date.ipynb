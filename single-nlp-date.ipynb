{
 "cells": [
  {
   "cell_type": "code",
   "execution_count": 44,
   "metadata": {},
   "outputs": [],
   "source": [
    "import spacy\n",
    "import uuid"
   ]
  },
  {
   "cell_type": "code",
   "execution_count": 45,
   "metadata": {},
   "outputs": [],
   "source": [
    "nlp = spacy.load('en_core_web_sm')"
   ]
  },
  {
   "cell_type": "code",
   "execution_count": 46,
   "metadata": {},
   "outputs": [
    {
     "name": "stdout",
     "output_type": "stream",
     "text": [
      "Enter a sentence: Let us meet at Delhi on 1st January 2016 at 7pm.\n"
     ]
    }
   ],
   "source": [
    "text = input(\"Enter a sentence: \")"
   ]
  },
  {
   "cell_type": "code",
   "execution_count": 47,
   "metadata": {},
   "outputs": [],
   "source": [
    "sentence = nlp(text)"
   ]
  },
  {
   "cell_type": "code",
   "execution_count": 59,
   "metadata": {},
   "outputs": [],
   "source": [
    "class Event(object):\n",
    "    _id = None\n",
    "    title = \"\"\n",
    "    date = \"\"\n",
    "    time = \"\"\n",
    "    location = \"\"\n",
    "    \n",
    "    def toString(self):\n",
    "        print(\"_id: \", self._id,\n",
    "              \"title :\", self.title,\n",
    "              \"date: \", self.date,\n",
    "              \"time: \", self.time,\n",
    "              \"location: \", self.location)"
   ]
  },
  {
   "cell_type": "code",
   "execution_count": 60,
   "metadata": {},
   "outputs": [],
   "source": [
    "event = Event()"
   ]
  },
  {
   "cell_type": "code",
   "execution_count": 61,
   "metadata": {},
   "outputs": [],
   "source": [
    "event._id = uuid.uuid4().hex"
   ]
  },
  {
   "cell_type": "code",
   "execution_count": 62,
   "metadata": {},
   "outputs": [
    {
     "name": "stdout",
     "output_type": "stream",
     "text": [
      "7pm                  TIME\n"
     ]
    }
   ],
   "source": [
    "for ent in sentence.ents:\n",
    "        if ent.label_ == \"TIME\":\n",
    "            print(f'{ent.text:{20}} {ent.label_}')\n",
    "            event.time = ent.text"
   ]
  },
  {
   "cell_type": "code",
   "execution_count": 67,
   "metadata": {},
   "outputs": [
    {
     "name": "stdout",
     "output_type": "stream",
     "text": [
      "Delhi                GPE\n"
     ]
    }
   ],
   "source": [
    "for ent in sentence.ents:\n",
    "        if ent.label_ == \"GPE\":\n",
    "            print(f'{ent.text:{20}} {ent.label_}')\n",
    "            event.location = ent.text"
   ]
  },
  {
   "cell_type": "code",
   "execution_count": 68,
   "metadata": {},
   "outputs": [
    {
     "name": "stdout",
     "output_type": "stream",
     "text": [
      "1st January 2016     DATE\n"
     ]
    }
   ],
   "source": [
    "for ent in sentence.ents:\n",
    "        if ent.label_ == \"DATE\":\n",
    "            print(f'{ent.text:{20}} {ent.label_}')\n",
    "            event.date = ent.text"
   ]
  },
  {
   "cell_type": "code",
   "execution_count": 69,
   "metadata": {},
   "outputs": [
    {
     "name": "stdout",
     "output_type": "stream",
     "text": [
      "Delhi\n",
      "1st January 2016\n",
      "7pm\n"
     ]
    }
   ],
   "source": [
    "for ent in sentence.ents:\n",
    "    print(ent)"
   ]
  },
  {
   "cell_type": "code",
   "execution_count": 70,
   "metadata": {},
   "outputs": [
    {
     "name": "stdout",
     "output_type": "stream",
     "text": [
      "_id:  217ac6d48e0345d3ac5600f980a3b535 title :  date:  1st January 2016 time:  7pm location:  Delhi\n",
      "None\n"
     ]
    }
   ],
   "source": [
    "print(event.toString())"
   ]
  },
  {
   "cell_type": "code",
   "execution_count": null,
   "metadata": {},
   "outputs": [],
   "source": []
  }
 ],
 "metadata": {
  "kernelspec": {
   "display_name": "Python 3",
   "language": "python",
   "name": "python3"
  },
  "language_info": {
   "codemirror_mode": {
    "name": "ipython",
    "version": 3
   },
   "file_extension": ".py",
   "mimetype": "text/x-python",
   "name": "python",
   "nbconvert_exporter": "python",
   "pygments_lexer": "ipython3",
   "version": "3.6.6"
  }
 },
 "nbformat": 4,
 "nbformat_minor": 2
}
